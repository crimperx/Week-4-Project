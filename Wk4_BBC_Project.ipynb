{
 "cells": [
  {
   "cell_type": "markdown",
   "id": "ca8a9198-cfdd-4bb7-8b78-78d7b012ed98",
   "metadata": {},
   "source": []
  },
  {
   "cell_type": "code",
   "execution_count": 2,
   "id": "2f204a8f-f7cf-40d2-9315-93500019b847",
   "metadata": {},
   "outputs": [],
   "source": [
    "# 📦 Essential Libraries\n",
    "import pandas as pd\n",
    "import numpy as np\n",
    "import copy\n",
    "import re\n",
    "\n",
    "# 📊 Visualization\n",
    "import matplotlib.pyplot as plt\n",
    "import seaborn as sns\n",
    "sns.set()  # Optional: set default Seaborn theme\n",
    "%matplotlib inline  \n",
    "\n",
    "# 📈 Statistics and Modeling\n",
    "import scipy as sp\n",
    "import scipy.stats as stats\n",
    "import statsmodels.api as sm\n",
    "import statsmodels.formula.api as smf\n",
    "\n",
    "# 🧠 Machine Learning\n",
    "from sklearn.model_selection import train_test_split, GroupShuffleSplit, RandomizedSearchCV\n",
    "from sklearn.ensemble import RandomForestClassifier\n",
    "from sklearn.preprocessing import OneHotEncoder, LabelEncoder\n",
    "from sklearn.metrics import accuracy_score, classification_report\n",
    "from sklearn.feature_extraction.text import TfidfVectorizer\n",
    "from sklearn.decomposition import NMF\n",
    "\n",
    "# 🗃️ Other\n",
    "import kagglehub\n",
    "\n",
    "# 🛠️ NLTK (Natural Language Processing)\n",
    "import nltk\n",
    "from nltk.corpus import stopwords\n",
    "from nltk.stem import WordNetLemmatizer\n",
    "\n",
    "# 🛠️ Display settings\n",
    "pd.set_option('display.max_columns', None)\n",
    "pd.set_option('display.width', None)\n"
   ]
  },
  {
   "cell_type": "code",
   "execution_count": 3,
   "id": "9994d7e5-f0d4-4004-a877-fae16490bcbe",
   "metadata": {},
   "outputs": [],
   "source": [
    "#Step 1. Load the data\n",
    "train = pd.read_csv(r\"C:\\Users\\chris\\OneDrive\\Documents\\Data Science\\Machine Learning\\UnSup. ML C2\\bbc_train.csv\");\n",
    "test = pd.read_csv(r\"C:\\Users\\chris\\OneDrive\\Documents\\Data Science\\Machine Learning\\UnSup. ML C2\\BBC_test.csv\");\n",
    "\n",
    "train['Length'] = train['Text'].apply(lambda x: len(str(x).split()))\n",
    "\n"
   ]
  },
  {
   "cell_type": "code",
   "execution_count": 4,
   "id": "c0ce14d1-d63a-42c0-ae83-70c967faf861",
   "metadata": {},
   "outputs": [
    {
     "name": "stderr",
     "output_type": "stream",
     "text": [
      "[nltk_data] Downloading package stopwords to\n",
      "[nltk_data]     C:\\Users\\chris\\AppData\\Roaming\\nltk_data...\n",
      "[nltk_data]   Package stopwords is already up-to-date!\n",
      "[nltk_data] Downloading package wordnet to\n",
      "[nltk_data]     C:\\Users\\chris\\AppData\\Roaming\\nltk_data...\n",
      "[nltk_data]   Package wordnet is already up-to-date!\n"
     ]
    },
    {
     "data": {
      "text/html": [
       "<div>\n",
       "<style scoped>\n",
       "    .dataframe tbody tr th:only-of-type {\n",
       "        vertical-align: middle;\n",
       "    }\n",
       "\n",
       "    .dataframe tbody tr th {\n",
       "        vertical-align: top;\n",
       "    }\n",
       "\n",
       "    .dataframe thead th {\n",
       "        text-align: right;\n",
       "    }\n",
       "</style>\n",
       "<table border=\"1\" class=\"dataframe\">\n",
       "  <thead>\n",
       "    <tr style=\"text-align: right;\">\n",
       "      <th></th>\n",
       "      <th>ArticleId</th>\n",
       "      <th>Text</th>\n",
       "      <th>Category</th>\n",
       "      <th>Length</th>\n",
       "      <th>clean_text</th>\n",
       "    </tr>\n",
       "  </thead>\n",
       "  <tbody>\n",
       "    <tr>\n",
       "      <th>0</th>\n",
       "      <td>1833</td>\n",
       "      <td>worldcom ex-boss launches defence lawyers defe...</td>\n",
       "      <td>business</td>\n",
       "      <td>301</td>\n",
       "      <td>worldcom ex bos launch defence lawyer defendin...</td>\n",
       "    </tr>\n",
       "    <tr>\n",
       "      <th>1</th>\n",
       "      <td>154</td>\n",
       "      <td>german business confidence slides german busin...</td>\n",
       "      <td>business</td>\n",
       "      <td>325</td>\n",
       "      <td>german business confidence slide german busine...</td>\n",
       "    </tr>\n",
       "    <tr>\n",
       "      <th>2</th>\n",
       "      <td>1101</td>\n",
       "      <td>bbc poll indicates economic gloom citizens in ...</td>\n",
       "      <td>business</td>\n",
       "      <td>514</td>\n",
       "      <td>bbc poll indicates economic gloom citizen majo...</td>\n",
       "    </tr>\n",
       "    <tr>\n",
       "      <th>3</th>\n",
       "      <td>1976</td>\n",
       "      <td>lifestyle  governs mobile choice  faster  bett...</td>\n",
       "      <td>tech</td>\n",
       "      <td>634</td>\n",
       "      <td>lifestyle governs mobile choice faster better ...</td>\n",
       "    </tr>\n",
       "    <tr>\n",
       "      <th>4</th>\n",
       "      <td>917</td>\n",
       "      <td>enron bosses in $168m payout eighteen former e...</td>\n",
       "      <td>business</td>\n",
       "      <td>355</td>\n",
       "      <td>enron boss 168m payout eighteen former enron d...</td>\n",
       "    </tr>\n",
       "  </tbody>\n",
       "</table>\n",
       "</div>"
      ],
      "text/plain": [
       "   ArticleId                                               Text  Category  \\\n",
       "0       1833  worldcom ex-boss launches defence lawyers defe...  business   \n",
       "1        154  german business confidence slides german busin...  business   \n",
       "2       1101  bbc poll indicates economic gloom citizens in ...  business   \n",
       "3       1976  lifestyle  governs mobile choice  faster  bett...      tech   \n",
       "4        917  enron bosses in $168m payout eighteen former e...  business   \n",
       "\n",
       "   Length                                         clean_text  \n",
       "0     301  worldcom ex bos launch defence lawyer defendin...  \n",
       "1     325  german business confidence slide german busine...  \n",
       "2     514  bbc poll indicates economic gloom citizen majo...  \n",
       "3     634  lifestyle governs mobile choice faster better ...  \n",
       "4     355  enron boss 168m payout eighteen former enron d...  "
      ]
     },
     "execution_count": 4,
     "metadata": {},
     "output_type": "execute_result"
    }
   ],
   "source": [
    "# Download NLTK resources\n",
    "nltk.download('stopwords')\n",
    "nltk.download('wordnet')  \n",
    "\n",
    "lemmatizer = WordNetLemmatizer()\n",
    "stop_words = set(stopwords.words('english'))\n",
    "\n",
    "def clean_text(text):\n",
    "    text = text.lower()\n",
    "    text = re.sub(r'\\W+', ' ', text)  # remove non-word characters\n",
    "    tokens = text.split()\n",
    "    tokens = [lemmatizer.lemmatize(word) for word in tokens if word not in stop_words]\n",
    "    return ' '.join(tokens)\n",
    "train['clean_text'] = train['Text'].apply(clean_text)\n",
    "train.head()"
   ]
  },
  {
   "cell_type": "code",
   "execution_count": 5,
   "id": "c1982d83-4e15-48fb-b3cb-bed075f129b0",
   "metadata": {},
   "outputs": [
    {
     "name": "stdout",
     "output_type": "stream",
     "text": [
      "Validation Accuracy: 0.9429530201342282\n",
      "               precision    recall  f1-score   support\n",
      "\n",
      "     business       0.96      0.88      0.92        75\n",
      "entertainment       0.94      0.96      0.95        46\n",
      "     politics       0.89      0.96      0.92        56\n",
      "        sport       0.98      0.98      0.98        63\n",
      "         tech       0.95      0.95      0.95        58\n",
      "\n",
      "     accuracy                           0.94       298\n",
      "    macro avg       0.94      0.95      0.94       298\n",
      " weighted avg       0.94      0.94      0.94       298\n",
      "\n"
     ]
    }
   ],
   "source": [
    "# TF-IDF from train only\n",
    "tfidf = TfidfVectorizer(max_features=1000, stop_words='english')\n",
    "X_train_tfidf = tfidf.fit_transform(train['clean_text'])\n",
    "\n",
    "# NMF topic modeling (unsupervised)\n",
    "nmf = NMF(n_components=10, random_state=42)\n",
    "W = nmf.fit_transform(X_train_tfidf)  # Document-topic matrix\n",
    "\n",
    "le = LabelEncoder()\n",
    "y_train = le.fit_transform(train['Category'])\n",
    "\n",
    "# Split train into training and validation\n",
    "W_train, W_val, y_train_split, y_val_split = train_test_split(W, y_train, test_size=0.2, random_state=42)\n",
    "\n",
    "clf = RandomForestClassifier(random_state=42)\n",
    "clf.fit(W_train, y_train_split)\n",
    "\n",
    "# Evaluate on validation\n",
    "y_val_pred = clf.predict(W_val)\n",
    "print(\"Validation Accuracy:\", accuracy_score(y_val_split, y_val_pred))\n",
    "print(classification_report(y_val_split, y_val_pred, target_names=le.classes_))\n",
    "\n"
   ]
  },
  {
   "cell_type": "code",
   "execution_count": 6,
   "id": "244dbdf8-a314-444d-b8aa-37945974c9a5",
   "metadata": {},
   "outputs": [],
   "source": [
    "# Clean test set\n",
    "test['clean_text'] = test['Text'].apply(clean_text)\n",
    "\n",
    "# Transform test data using the SAME TF-IDF and NMF\n",
    "X_test_tfidf = tfidf.transform(test['clean_text'])\n",
    "W_test = nmf.transform(X_test_tfidf)\n",
    "\n",
    "# Predict categories\n",
    "test_preds = clf.predict(W_test)\n",
    "test['Category'] = le.inverse_transform(test_preds)\n"
   ]
  },
  {
   "cell_type": "code",
   "execution_count": 7,
   "id": "9517c942-99b5-4f41-8dc7-26c652505ba4",
   "metadata": {},
   "outputs": [
    {
     "data": {
      "text/html": [
       "<div>\n",
       "<style scoped>\n",
       "    .dataframe tbody tr th:only-of-type {\n",
       "        vertical-align: middle;\n",
       "    }\n",
       "\n",
       "    .dataframe tbody tr th {\n",
       "        vertical-align: top;\n",
       "    }\n",
       "\n",
       "    .dataframe thead th {\n",
       "        text-align: right;\n",
       "    }\n",
       "</style>\n",
       "<table border=\"1\" class=\"dataframe\">\n",
       "  <thead>\n",
       "    <tr style=\"text-align: right;\">\n",
       "      <th></th>\n",
       "      <th>ArticleId</th>\n",
       "      <th>Text</th>\n",
       "      <th>Category</th>\n",
       "    </tr>\n",
       "  </thead>\n",
       "  <tbody>\n",
       "    <tr>\n",
       "      <th>0</th>\n",
       "      <td>1018</td>\n",
       "      <td>qpr keeper day heads for preston queens park r...</td>\n",
       "      <td>sport</td>\n",
       "    </tr>\n",
       "    <tr>\n",
       "      <th>1</th>\n",
       "      <td>1319</td>\n",
       "      <td>software watching while you work software that...</td>\n",
       "      <td>tech</td>\n",
       "    </tr>\n",
       "    <tr>\n",
       "      <th>2</th>\n",
       "      <td>1138</td>\n",
       "      <td>d arcy injury adds to ireland woe gordon d arc...</td>\n",
       "      <td>sport</td>\n",
       "    </tr>\n",
       "    <tr>\n",
       "      <th>3</th>\n",
       "      <td>459</td>\n",
       "      <td>india s reliance family feud heats up the ongo...</td>\n",
       "      <td>business</td>\n",
       "    </tr>\n",
       "    <tr>\n",
       "      <th>4</th>\n",
       "      <td>1020</td>\n",
       "      <td>boro suffer morrison injury blow middlesbrough...</td>\n",
       "      <td>sport</td>\n",
       "    </tr>\n",
       "    <tr>\n",
       "      <th>5</th>\n",
       "      <td>51</td>\n",
       "      <td>lewsey puzzle over disallowed try england s jo...</td>\n",
       "      <td>sport</td>\n",
       "    </tr>\n",
       "    <tr>\n",
       "      <th>6</th>\n",
       "      <td>2025</td>\n",
       "      <td>blair blasts tory spending plans tony blair ha...</td>\n",
       "      <td>politics</td>\n",
       "    </tr>\n",
       "    <tr>\n",
       "      <th>7</th>\n",
       "      <td>1479</td>\n",
       "      <td>former ni minister scott dies former northern ...</td>\n",
       "      <td>politics</td>\n",
       "    </tr>\n",
       "    <tr>\n",
       "      <th>8</th>\n",
       "      <td>27</td>\n",
       "      <td>career honour for actor dicaprio actor leonard...</td>\n",
       "      <td>entertainment</td>\n",
       "    </tr>\n",
       "    <tr>\n",
       "      <th>9</th>\n",
       "      <td>397</td>\n",
       "      <td>tsunami  to hit sri lanka banks  sri lanka s b...</td>\n",
       "      <td>business</td>\n",
       "    </tr>\n",
       "  </tbody>\n",
       "</table>\n",
       "</div>"
      ],
      "text/plain": [
       "   ArticleId                                               Text       Category\n",
       "0       1018  qpr keeper day heads for preston queens park r...          sport\n",
       "1       1319  software watching while you work software that...           tech\n",
       "2       1138  d arcy injury adds to ireland woe gordon d arc...          sport\n",
       "3        459  india s reliance family feud heats up the ongo...       business\n",
       "4       1020  boro suffer morrison injury blow middlesbrough...          sport\n",
       "5         51  lewsey puzzle over disallowed try england s jo...          sport\n",
       "6       2025  blair blasts tory spending plans tony blair ha...       politics\n",
       "7       1479  former ni minister scott dies former northern ...       politics\n",
       "8         27  career honour for actor dicaprio actor leonard...  entertainment\n",
       "9        397  tsunami  to hit sri lanka banks  sri lanka s b...       business"
      ]
     },
     "execution_count": 7,
     "metadata": {},
     "output_type": "execute_result"
    }
   ],
   "source": [
    "test[['ArticleId', 'Text', 'Category']].head(10)\n"
   ]
  },
  {
   "cell_type": "code",
   "execution_count": 8,
   "id": "fe997ec4-c847-4e94-b724-5ece960804d7",
   "metadata": {},
   "outputs": [
    {
     "data": {
      "text/plain": [
       "Category\n",
       "business         167\n",
       "sport            165\n",
       "politics         149\n",
       "tech             138\n",
       "entertainment    116\n",
       "Name: count, dtype: int64"
      ]
     },
     "execution_count": 8,
     "metadata": {},
     "output_type": "execute_result"
    }
   ],
   "source": [
    "test['Category'].value_counts()\n"
   ]
  },
  {
   "cell_type": "code",
   "execution_count": 9,
   "id": "89a7f53a-cfed-453b-98fa-879c5edb509a",
   "metadata": {},
   "outputs": [
    {
     "name": "stdout",
     "output_type": "stream",
     "text": [
      "Train Accuracy: 1.0\n",
      "Validation Accuracy: 0.9798657718120806\n",
      "               precision    recall  f1-score   support\n",
      "\n",
      "     business       0.96      0.99      0.97        75\n",
      "entertainment       0.98      1.00      0.99        46\n",
      "     politics       0.96      0.95      0.95        56\n",
      "        sport       1.00      1.00      1.00        63\n",
      "         tech       1.00      0.97      0.98        58\n",
      "\n",
      "     accuracy                           0.98       298\n",
      "    macro avg       0.98      0.98      0.98       298\n",
      " weighted avg       0.98      0.98      0.98       298\n",
      "\n"
     ]
    }
   ],
   "source": [
    "# Encode labels\n",
    "le = LabelEncoder()\n",
    "y = le.fit_transform(train['Category'])\n",
    "\n",
    "# TF-IDF\n",
    "tfidf = TfidfVectorizer(max_features=1000, stop_words='english')\n",
    "X = tfidf.fit_transform(train['clean_text'])\n",
    "\n",
    "# Train/Val split\n",
    "X_train, X_val, y_train_split, y_val_split = train_test_split(X, y, test_size=0.2, random_state=42)\n",
    "\n",
    "# Train Random Forest\n",
    "clf_sup = RandomForestClassifier(random_state=42)\n",
    "clf_sup.fit(X_train, y_train_split)\n",
    "\n",
    "# Evaluate\n",
    "train_preds = clf_sup.predict(X_train)\n",
    "val_preds = clf_sup.predict(X_val)\n",
    "\n",
    "print(\"Train Accuracy:\", accuracy_score(y_train_split, train_preds))\n",
    "print(\"Validation Accuracy:\", accuracy_score(y_val_split, val_preds))\n",
    "print(classification_report(y_val_split, val_preds, target_names=le.classes_))\n"
   ]
  },
  {
   "cell_type": "code",
   "execution_count": 10,
   "id": "f43a95e9-4646-459e-8fa2-c46b08d08c0f",
   "metadata": {},
   "outputs": [
    {
     "name": "stdout",
     "output_type": "stream",
     "text": [
      "Unsupervised (NMF + classifier) val accuracy: ~0.94\n",
      "Supervised (TF-IDF + RandomForest) val accuracy: ~0.98\n"
     ]
    }
   ],
   "source": [
    "print(\"Unsupervised (NMF + classifier) val accuracy: ~0.94\")\n",
    "print(\"Supervised (TF-IDF + RandomForest) val accuracy: ~0.98\")\n"
   ]
  },
  {
   "cell_type": "code",
   "execution_count": 11,
   "id": "eeecfdc8-cf65-449b-a6f7-42499fbf94cf",
   "metadata": {},
   "outputs": [
    {
     "name": "stdout",
     "output_type": "stream",
     "text": [
      "Training with 10% of data: Validation Accuracy = 0.833\n",
      "Training with 20% of data: Validation Accuracy = 0.933\n",
      "Training with 50% of data: Validation Accuracy = 0.926\n",
      "Training with 100% of data: Validation Accuracy = 0.943\n"
     ]
    }
   ],
   "source": [
    "fractions = [0.1, 0.2, 0.5, 1.0]\n",
    "results = []\n",
    "\n",
    "for frac in fractions:\n",
    "    if frac < 1.0:\n",
    "        X_frac, _, y_frac, _ = train_test_split(X, y, train_size=frac, random_state=42, stratify=y)\n",
    "    else:\n",
    "        X_frac, y_frac = X, y  # Use all data when frac == 1.0\n",
    "\n",
    "    X_train_sub, X_val_sub, y_train_sub, y_val_sub = train_test_split(\n",
    "        X_frac, y_frac, test_size=0.2, random_state=42, stratify=y_frac)\n",
    "\n",
    "    clf = RandomForestClassifier(random_state=42)\n",
    "    clf.fit(X_train_sub, y_train_sub)\n",
    "    val_acc = accuracy_score(y_val_sub, clf.predict(X_val_sub))\n",
    "\n",
    "    print(f\"Training with {int(frac*100)}% of data: Validation Accuracy = {val_acc:.3f}\")\n",
    "    results.append({'TrainingSize': int(frac * 100), 'Accuracy': val_acc})  # use 'TrainingSize'\n"
   ]
  },
  {
   "cell_type": "code",
   "execution_count": 12,
   "id": "0d448e91-ca16-43a7-87c7-23004542cc00",
   "metadata": {},
   "outputs": [
    {
     "name": "stdout",
     "output_type": "stream",
     "text": [
      "[{'TrainingSize': 10, 'Accuracy': 0.8333333333333334}, {'TrainingSize': 20, 'Accuracy': 0.9333333333333333}, {'TrainingSize': 50, 'Accuracy': 0.9261744966442953}, {'TrainingSize': 100, 'Accuracy': 0.9429530201342282}, {'TrainingSize': 100, 'Accuracy': 0.9429530201342282}]\n",
      "   TrainingSize  Accuracy\n",
      "0            10  0.833333\n",
      "1            20  0.933333\n",
      "2            50  0.926174\n",
      "3           100  0.942953\n",
      "4           100  0.942953\n"
     ]
    }
   ],
   "source": [
    "results.append({'TrainingSize': int(frac * 100), 'Accuracy': val_acc})\n",
    "\n",
    "# Check the results list\n",
    "print(results)\n",
    "\n",
    "# Convert to DataFrame\n",
    "df_eff = pd.DataFrame(results)\n",
    "print(df_eff)\n",
    "\n"
   ]
  },
  {
   "cell_type": "code",
   "execution_count": 13,
   "id": "692d0393-abb7-46df-88e4-f10346b5ae54",
   "metadata": {},
   "outputs": [
    {
     "data": {
      "image/png": "[encoded data removed]",
      "text/plain": [
       "<Figure size 640x480 with 1 Axes>"
      ]
     },
     "metadata": {},
     "output_type": "display_data"
    }
   ],
   "source": [
    "df_eff = pd.DataFrame(results)\n",
    "\n",
    "# Ensure you're using 'TrainingSize' here\n",
    "sns.lineplot(data=df_eff, x='TrainingSize', y='Accuracy', marker='o')\n",
    "plt.title(\"Supervised Learning: Accuracy vs. Labeled Data Size\")\n",
    "plt.xlabel(\"Training Data (%)\")\n",
    "plt.ylabel(\"Validation Accuracy\")\n",
    "plt.ylim(0.5, 1.0)\n",
    "plt.show()\n",
    "\n"
   ]
  }
 ],
 "metadata": {
  "kernelspec": {
   "display_name": "Python [conda env:base] *",
   "language": "python",
   "name": "conda-base-py"
  },
  "language_info": {
   "codemirror_mode": {
    "name": "ipython",
    "version": 3
   },
   "file_extension": ".py",
   "mimetype": "text/x-python",
   "name": "python",
   "nbconvert_exporter": "python",
   "pygments_lexer": "ipython3",
   "version": "3.12.3"
  }
 },
 "nbformat": 4,
 "nbformat_minor": 5
}
